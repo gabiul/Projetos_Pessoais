{
 "cells": [
  {
   "cell_type": "code",
   "execution_count": 96,
   "metadata": {},
   "outputs": [],
   "source": [
    "import pandas as pd\n",
    "import matplotlib.pyplot as plt\n",
    "import seaborn as sns"
   ]
  },
  {
   "cell_type": "code",
   "execution_count": 2,
   "metadata": {},
   "outputs": [],
   "source": [
    "df = pd.read_csv('all_seasons.csv')"
   ]
  },
  {
   "cell_type": "markdown",
   "metadata": {},
   "source": [
    "### Index of the columns\n",
    "\n",
    "- (player_name) Player name;   **There are more than one entry for each player (one for each season).\n",
    "- (team_abbreviation) Team played in the season;\n",
    "- (age) Age of the player in the end of the season;\n",
    "- (player_height) Height of the player in the end of the season;\n",
    "- (player_weight) Weight of the player in the end of the season;\n",
    "- (college) Wich college he played;\n",
    "- (country) Wich country he is from;\n",
    "- (draft_year) Wich year he was drafted;\n",
    "- (draft_round) Wich round he was drafted;\n",
    "- (draft_number) His drafted number;\n",
    "- (gp) Games played that season;\n",
    "- (pts) Points made in that season;\n",
    "- (reb) Rebounds made in that season;\n",
    "- (ast) Assists made in that season;\n",
    "- (net_rating) Net rating in that season (offensive rating minus defense rating);\n",
    "- (oreb_pct) Offensive rebounds percentage in that season;\n",
    "- (dreb_pct) Defensive rebounds percentage in that season;\n",
    "- (usg_pct) Usage percentage (estimate of the team plays used by a player while he was on the floor);\n",
    "- (ts_pct) True shooting percentage;\n",
    "- (ast_pct) Assist percentage;\n",
    "- (season) Season of the data. \n",
    "\n",
    "For a more detailed description: https://www.basketball-reference.com/about/glossary.html#fga"
   ]
  },
  {
   "cell_type": "code",
   "execution_count": 15,
   "metadata": {},
   "outputs": [
    {
     "data": {
      "text/html": [
       "<div>\n",
       "<style scoped>\n",
       "    .dataframe tbody tr th:only-of-type {\n",
       "        vertical-align: middle;\n",
       "    }\n",
       "\n",
       "    .dataframe tbody tr th {\n",
       "        vertical-align: top;\n",
       "    }\n",
       "\n",
       "    .dataframe thead th {\n",
       "        text-align: right;\n",
       "    }\n",
       "</style>\n",
       "<table border=\"1\" class=\"dataframe\">\n",
       "  <thead>\n",
       "    <tr style=\"text-align: right;\">\n",
       "      <th></th>\n",
       "      <th>Unnamed: 0</th>\n",
       "      <th>player_name</th>\n",
       "      <th>team_abbreviation</th>\n",
       "      <th>age</th>\n",
       "      <th>player_height</th>\n",
       "      <th>player_weight</th>\n",
       "      <th>college</th>\n",
       "      <th>country</th>\n",
       "      <th>draft_year</th>\n",
       "      <th>draft_round</th>\n",
       "      <th>...</th>\n",
       "      <th>pts</th>\n",
       "      <th>reb</th>\n",
       "      <th>ast</th>\n",
       "      <th>net_rating</th>\n",
       "      <th>oreb_pct</th>\n",
       "      <th>dreb_pct</th>\n",
       "      <th>usg_pct</th>\n",
       "      <th>ts_pct</th>\n",
       "      <th>ast_pct</th>\n",
       "      <th>season</th>\n",
       "    </tr>\n",
       "  </thead>\n",
       "  <tbody>\n",
       "    <tr>\n",
       "      <th>0</th>\n",
       "      <td>0</td>\n",
       "      <td>Dennis Rodman</td>\n",
       "      <td>CHI</td>\n",
       "      <td>36.0</td>\n",
       "      <td>198.12</td>\n",
       "      <td>99.790240</td>\n",
       "      <td>Southeastern Oklahoma State</td>\n",
       "      <td>USA</td>\n",
       "      <td>1986</td>\n",
       "      <td>2</td>\n",
       "      <td>...</td>\n",
       "      <td>5.7</td>\n",
       "      <td>16.1</td>\n",
       "      <td>3.1</td>\n",
       "      <td>16.1</td>\n",
       "      <td>0.186</td>\n",
       "      <td>0.323</td>\n",
       "      <td>0.100</td>\n",
       "      <td>0.479</td>\n",
       "      <td>0.113</td>\n",
       "      <td>1996-97</td>\n",
       "    </tr>\n",
       "    <tr>\n",
       "      <th>1</th>\n",
       "      <td>1</td>\n",
       "      <td>Dwayne Schintzius</td>\n",
       "      <td>LAC</td>\n",
       "      <td>28.0</td>\n",
       "      <td>215.90</td>\n",
       "      <td>117.933920</td>\n",
       "      <td>Florida</td>\n",
       "      <td>USA</td>\n",
       "      <td>1990</td>\n",
       "      <td>1</td>\n",
       "      <td>...</td>\n",
       "      <td>2.3</td>\n",
       "      <td>1.5</td>\n",
       "      <td>0.3</td>\n",
       "      <td>12.3</td>\n",
       "      <td>0.078</td>\n",
       "      <td>0.151</td>\n",
       "      <td>0.175</td>\n",
       "      <td>0.430</td>\n",
       "      <td>0.048</td>\n",
       "      <td>1996-97</td>\n",
       "    </tr>\n",
       "    <tr>\n",
       "      <th>2</th>\n",
       "      <td>2</td>\n",
       "      <td>Earl Cureton</td>\n",
       "      <td>TOR</td>\n",
       "      <td>39.0</td>\n",
       "      <td>205.74</td>\n",
       "      <td>95.254320</td>\n",
       "      <td>Detroit Mercy</td>\n",
       "      <td>USA</td>\n",
       "      <td>1979</td>\n",
       "      <td>3</td>\n",
       "      <td>...</td>\n",
       "      <td>0.8</td>\n",
       "      <td>1.0</td>\n",
       "      <td>0.4</td>\n",
       "      <td>-2.1</td>\n",
       "      <td>0.105</td>\n",
       "      <td>0.102</td>\n",
       "      <td>0.103</td>\n",
       "      <td>0.376</td>\n",
       "      <td>0.148</td>\n",
       "      <td>1996-97</td>\n",
       "    </tr>\n",
       "    <tr>\n",
       "      <th>3</th>\n",
       "      <td>3</td>\n",
       "      <td>Ed O'Bannon</td>\n",
       "      <td>DAL</td>\n",
       "      <td>24.0</td>\n",
       "      <td>203.20</td>\n",
       "      <td>100.697424</td>\n",
       "      <td>UCLA</td>\n",
       "      <td>USA</td>\n",
       "      <td>1995</td>\n",
       "      <td>1</td>\n",
       "      <td>...</td>\n",
       "      <td>3.7</td>\n",
       "      <td>2.3</td>\n",
       "      <td>0.6</td>\n",
       "      <td>-8.7</td>\n",
       "      <td>0.060</td>\n",
       "      <td>0.149</td>\n",
       "      <td>0.167</td>\n",
       "      <td>0.399</td>\n",
       "      <td>0.077</td>\n",
       "      <td>1996-97</td>\n",
       "    </tr>\n",
       "    <tr>\n",
       "      <th>4</th>\n",
       "      <td>4</td>\n",
       "      <td>Ed Pinckney</td>\n",
       "      <td>MIA</td>\n",
       "      <td>34.0</td>\n",
       "      <td>205.74</td>\n",
       "      <td>108.862080</td>\n",
       "      <td>Villanova</td>\n",
       "      <td>USA</td>\n",
       "      <td>1985</td>\n",
       "      <td>1</td>\n",
       "      <td>...</td>\n",
       "      <td>2.4</td>\n",
       "      <td>2.4</td>\n",
       "      <td>0.2</td>\n",
       "      <td>-11.2</td>\n",
       "      <td>0.109</td>\n",
       "      <td>0.179</td>\n",
       "      <td>0.127</td>\n",
       "      <td>0.611</td>\n",
       "      <td>0.040</td>\n",
       "      <td>1996-97</td>\n",
       "    </tr>\n",
       "  </tbody>\n",
       "</table>\n",
       "<p>5 rows × 22 columns</p>\n",
       "</div>"
      ],
      "text/plain": [
       "   Unnamed: 0        player_name team_abbreviation   age  player_height  \\\n",
       "0           0      Dennis Rodman               CHI  36.0         198.12   \n",
       "1           1  Dwayne Schintzius               LAC  28.0         215.90   \n",
       "2           2       Earl Cureton               TOR  39.0         205.74   \n",
       "3           3        Ed O'Bannon               DAL  24.0         203.20   \n",
       "4           4        Ed Pinckney               MIA  34.0         205.74   \n",
       "\n",
       "   player_weight                      college country draft_year draft_round  \\\n",
       "0      99.790240  Southeastern Oklahoma State     USA       1986           2   \n",
       "1     117.933920                      Florida     USA       1990           1   \n",
       "2      95.254320                Detroit Mercy     USA       1979           3   \n",
       "3     100.697424                         UCLA     USA       1995           1   \n",
       "4     108.862080                    Villanova     USA       1985           1   \n",
       "\n",
       "   ...  pts   reb  ast  net_rating  oreb_pct  dreb_pct  usg_pct  ts_pct  \\\n",
       "0  ...  5.7  16.1  3.1        16.1     0.186     0.323    0.100   0.479   \n",
       "1  ...  2.3   1.5  0.3        12.3     0.078     0.151    0.175   0.430   \n",
       "2  ...  0.8   1.0  0.4        -2.1     0.105     0.102    0.103   0.376   \n",
       "3  ...  3.7   2.3  0.6        -8.7     0.060     0.149    0.167   0.399   \n",
       "4  ...  2.4   2.4  0.2       -11.2     0.109     0.179    0.127   0.611   \n",
       "\n",
       "   ast_pct   season  \n",
       "0    0.113  1996-97  \n",
       "1    0.048  1996-97  \n",
       "2    0.148  1996-97  \n",
       "3    0.077  1996-97  \n",
       "4    0.040  1996-97  \n",
       "\n",
       "[5 rows x 22 columns]"
      ]
     },
     "execution_count": 15,
     "metadata": {},
     "output_type": "execute_result"
    }
   ],
   "source": [
    "df.head()"
   ]
  },
  {
   "cell_type": "markdown",
   "metadata": {},
   "source": [
    "### Getting diferent data frame for each season"
   ]
  },
  {
   "cell_type": "markdown",
   "metadata": {},
   "source": [
    "df_96_97 = df[df['season'] == '1996-97']\n",
    "df_97_98 = df[df['season'] == '1997-98']\n",
    "df_98_99 = df[df['season'] == '1998-99']\n",
    "df_99_00 = df[df['season'] == '1999-00']\n",
    "df_00_01 = df[df['season'] == '2000-01']\n",
    "df_01_02 = df[df['season'] == '2001-02']\n",
    "df_02_03 = df[df['season'] == '2002-03']\n",
    "df_03_04 = df[df['season'] == '2000-04']\n",
    "df_04_05 = df[df['season'] == '2000-05']\n",
    "df_05_06 = df[df['season'] == '2000-06']\n",
    "df_06_07 = df[df['season'] == '2000-07']\n",
    "df_07_08 = df[df['season'] == '2000-08']\n",
    "\n",
    "not used for now!"
   ]
  },
  {
   "cell_type": "markdown",
   "metadata": {},
   "source": [
    "### Which colleges made more NBA players?"
   ]
  },
  {
   "cell_type": "code",
   "execution_count": 78,
   "metadata": {},
   "outputs": [],
   "source": [
    "df_uniq = df.drop_duplicates(subset=['player_name'],keep='first')"
   ]
  },
  {
   "cell_type": "code",
   "execution_count": 61,
   "metadata": {},
   "outputs": [
    {
     "data": {
      "text/plain": [
       "None              344\n",
       "Kentucky           66\n",
       "Duke               54\n",
       "UCLA               48\n",
       "Kansas             47\n",
       "North Carolina     47\n",
       "Arizona            42\n",
       "Syracuse           33\n",
       "Michigan           32\n",
       "Georgia Tech       30\n",
       "Name: college, dtype: int64"
      ]
     },
     "execution_count": 61,
     "metadata": {},
     "output_type": "execute_result"
    }
   ],
   "source": [
    "df_uniq['college'].value_counts().iloc[:10]"
   ]
  },
  {
   "cell_type": "markdown",
   "metadata": {},
   "source": [
    "Accessing the NBA without a college degree seems like it is a good idea but it only representes 15.39%."
   ]
  },
  {
   "cell_type": "markdown",
   "metadata": {},
   "source": [
    "### The year that more players joined NBA without a college degree (did't played for a college baskeball team)"
   ]
  },
  {
   "cell_type": "code",
   "execution_count": 108,
   "metadata": {},
   "outputs": [
    {
     "data": {
      "image/png": "[encoded data removed]",
      "text/plain": [
       "<Figure size 432x288 with 1 Axes>"
      ]
     },
     "metadata": {
      "needs_background": "light"
     },
     "output_type": "display_data"
    }
   ],
   "source": [
    "df_uniq[df_uniq['college'] == 'None'].groupby(['season'])['player_name'].count().plot.bar()\n",
    "plt.legend(loc='center left', bbox_to_anchor=(1.0, 0.5))\n",
    "plt.show()\n",
    "\n"
   ]
  },
  {
   "cell_type": "markdown",
   "metadata": {},
   "source": [
    "There may be a trend on the NBA for hiring non college players, but this can only be verified with the data from upcoming years."
   ]
  },
  {
   "cell_type": "markdown",
   "metadata": {},
   "source": [
    "### future questions: best player (net rating) of this period, best college nba player maker (net rating), height x reb, heatmap, "
   ]
  },
  {
   "cell_type": "code",
   "execution_count": null,
   "metadata": {},
   "outputs": [],
   "source": []
  }
 ],
 "metadata": {
  "kernelspec": {
   "display_name": "Python 3",
   "language": "python",
   "name": "python3"
  },
  "language_info": {
   "codemirror_mode": {
    "name": "ipython",
    "version": 3
   },
   "file_extension": ".py",
   "mimetype": "text/x-python",
   "name": "python",
   "nbconvert_exporter": "python",
   "pygments_lexer": "ipython3",
   "version": "3.8.3"
  }
 },
 "nbformat": 4,
 "nbformat_minor": 4
}
